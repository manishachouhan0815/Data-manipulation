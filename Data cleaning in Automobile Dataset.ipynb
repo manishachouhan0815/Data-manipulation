{
 "cells": [
  {
   "cell_type": "markdown",
   "metadata": {},
   "source": [
    "## Assignment 1"
   ]
  },
  {
   "cell_type": "code",
   "execution_count": 1,
   "metadata": {},
   "outputs": [
    {
     "name": "stdout",
     "output_type": "stream",
     "text": [
      "    index      company   body-style  wheel-base  length engine-type  \\\n",
      "0       0  alfa-romero  convertible        88.6   168.8        dohc   \n",
      "1       1  alfa-romero  convertible        88.6   168.8        dohc   \n",
      "2       2  alfa-romero    hatchback        94.5   171.2        ohcv   \n",
      "3       3         audi        sedan        99.8   176.6         ohc   \n",
      "4       4         audi        sedan        99.4   176.6         ohc   \n",
      "..    ...          ...          ...         ...     ...         ...   \n",
      "56     81   volkswagen        sedan        97.3   171.7         ohc   \n",
      "57     82   volkswagen        sedan        97.3   171.7         ohc   \n",
      "58     86   volkswagen        sedan        97.3   171.7         ohc   \n",
      "59     87        volvo        sedan       104.3   188.8         ohc   \n",
      "60     88        volvo        wagon       104.3   188.8         ohc   \n",
      "\n",
      "   num-of-cylinders  horsepower  average-mileage    price  \n",
      "0              four         111               21  13495.0  \n",
      "1              four         111               21  16500.0  \n",
      "2               six         154               19  16500.0  \n",
      "3              four         102               24  13950.0  \n",
      "4              five         115               18  17450.0  \n",
      "..              ...         ...              ...      ...  \n",
      "56             four          85               27   7975.0  \n",
      "57             four          52               37   7995.0  \n",
      "58             four         100               26   9995.0  \n",
      "59             four         114               23  12940.0  \n",
      "60             four         114               23  13415.0  \n",
      "\n",
      "[61 rows x 10 columns]\n"
     ]
    }
   ],
   "source": [
    "import pandas as pd \n",
    "df=pd.read_csv(\"convertcsv/Automobile_dataset.csv\")\n",
    "print(df)"
   ]
  },
  {
   "cell_type": "markdown",
   "metadata": {},
   "source": [
    "## Quest1- From given data set print first and last five rows"
   ]
  },
  {
   "cell_type": "code",
   "execution_count": 3,
   "metadata": {},
   "outputs": [
    {
     "name": "stdout",
     "output_type": "stream",
     "text": [
      "   index      company   body-style  wheel-base  length engine-type  \\\n",
      "0      0  alfa-romero  convertible        88.6   168.8        dohc   \n",
      "1      1  alfa-romero  convertible        88.6   168.8        dohc   \n",
      "2      2  alfa-romero    hatchback        94.5   171.2        ohcv   \n",
      "3      3         audi        sedan        99.8   176.6         ohc   \n",
      "4      4         audi        sedan        99.4   176.6         ohc   \n",
      "\n",
      "  num-of-cylinders  horsepower  average-mileage    price  \n",
      "0             four         111               21  13495.0  \n",
      "1             four         111               21  16500.0  \n",
      "2              six         154               19  16500.0  \n",
      "3             four         102               24  13950.0  \n",
      "4             five         115               18  17450.0  \n",
      "    index     company body-style  wheel-base  length engine-type  \\\n",
      "56     81  volkswagen      sedan        97.3   171.7         ohc   \n",
      "57     82  volkswagen      sedan        97.3   171.7         ohc   \n",
      "58     86  volkswagen      sedan        97.3   171.7         ohc   \n",
      "59     87       volvo      sedan       104.3   188.8         ohc   \n",
      "60     88       volvo      wagon       104.3   188.8         ohc   \n",
      "\n",
      "   num-of-cylinders  horsepower  average-mileage    price  \n",
      "56             four          85               27   7975.0  \n",
      "57             four          52               37   7995.0  \n",
      "58             four         100               26   9995.0  \n",
      "59             four         114               23  12940.0  \n",
      "60             four         114               23  13415.0  \n"
     ]
    }
   ],
   "source": [
    "print(df.head(5))\n",
    "print(df.tail(5))"
   ]
  },
  {
   "cell_type": "markdown",
   "metadata": {},
   "source": [
    "## Quest2- Find the most expensive car company name"
   ]
  },
  {
   "cell_type": "code",
   "execution_count": 7,
   "metadata": {},
   "outputs": [
    {
     "data": {
      "text/html": [
       "<div>\n",
       "<style scoped>\n",
       "    .dataframe tbody tr th:only-of-type {\n",
       "        vertical-align: middle;\n",
       "    }\n",
       "\n",
       "    .dataframe tbody tr th {\n",
       "        vertical-align: top;\n",
       "    }\n",
       "\n",
       "    .dataframe thead th {\n",
       "        text-align: right;\n",
       "    }\n",
       "</style>\n",
       "<table border=\"1\" class=\"dataframe\">\n",
       "  <thead>\n",
       "    <tr style=\"text-align: right;\">\n",
       "      <th></th>\n",
       "      <th>company</th>\n",
       "      <th>price</th>\n",
       "    </tr>\n",
       "  </thead>\n",
       "  <tbody>\n",
       "    <tr>\n",
       "      <th>35</th>\n",
       "      <td>mercedes-benz</td>\n",
       "      <td>45400.0</td>\n",
       "    </tr>\n",
       "  </tbody>\n",
       "</table>\n",
       "</div>"
      ],
      "text/plain": [
       "          company    price\n",
       "35  mercedes-benz  45400.0"
      ]
     },
     "execution_count": 7,
     "metadata": {},
     "output_type": "execute_result"
    }
   ],
   "source": [
    "df[[\"company\",\"price\"]][df[\"price\"]==df.price.max()]\n"
   ]
  },
  {
   "cell_type": "markdown",
   "metadata": {},
   "source": [
    "## Quest3- Print All Toyota Cars details"
   ]
  },
  {
   "cell_type": "code",
   "execution_count": 8,
   "metadata": {},
   "outputs": [
    {
     "name": "stdout",
     "output_type": "stream",
     "text": [
      "    index company body-style  wheel-base  length engine-type num-of-cylinders  \\\n",
      "48     66  toyota  hatchback        95.7   158.7         ohc             four   \n",
      "49     67  toyota  hatchback        95.7   158.7         ohc             four   \n",
      "50     68  toyota  hatchback        95.7   158.7         ohc             four   \n",
      "51     69  toyota      wagon        95.7   169.7         ohc             four   \n",
      "52     70  toyota      wagon        95.7   169.7         ohc             four   \n",
      "53     71  toyota      wagon        95.7   169.7         ohc             four   \n",
      "54     79  toyota      wagon       104.5   187.8        dohc              six   \n",
      "\n",
      "    horsepower  average-mileage    price  \n",
      "48          62               35   5348.0  \n",
      "49          62               31   6338.0  \n",
      "50          62               31   6488.0  \n",
      "51          62               31   6918.0  \n",
      "52          62               27   7898.0  \n",
      "53          62               27   8778.0  \n",
      "54         156               19  15750.0  \n"
     ]
    }
   ],
   "source": [
    "print(df[df[\"company\"]==\"toyota\"])"
   ]
  },
  {
   "cell_type": "markdown",
   "metadata": {},
   "source": [
    "## Quest4-  Count total cars per company"
   ]
  },
  {
   "cell_type": "code",
   "execution_count": 10,
   "metadata": {},
   "outputs": [
    {
     "name": "stdout",
     "output_type": "stream",
     "text": [
      "company\n",
      "alfa-romero      3\n",
      "audi             4\n",
      "bmw              6\n",
      "chevrolet        3\n",
      "dodge            2\n",
      "honda            3\n",
      "isuzu            3\n",
      "jaguar           3\n",
      "mazda            5\n",
      "mercedes-benz    4\n",
      "mitsubishi       4\n",
      "nissan           5\n",
      "porsche          3\n",
      "toyota           7\n",
      "volkswagen       4\n",
      "volvo            2\n",
      "Name: company, dtype: int64\n"
     ]
    }
   ],
   "source": [
    "comp=df.groupby(\"company\")\n",
    "print(comp[\"company\"].count())"
   ]
  },
  {
   "cell_type": "markdown",
   "metadata": {},
   "source": [
    "## Quest5- Find each company’s Highest price car"
   ]
  },
  {
   "cell_type": "code",
   "execution_count": 13,
   "metadata": {},
   "outputs": [
    {
     "name": "stdout",
     "output_type": "stream",
     "text": [
      "company\n",
      "alfa-romero      16500.0\n",
      "audi             18920.0\n",
      "bmw              41315.0\n",
      "chevrolet         6575.0\n",
      "dodge             6377.0\n",
      "honda            12945.0\n",
      "isuzu             6785.0\n",
      "jaguar           36000.0\n",
      "mazda            18344.0\n",
      "mercedes-benz    45400.0\n",
      "mitsubishi        8189.0\n",
      "nissan           13499.0\n",
      "porsche          37028.0\n",
      "toyota           15750.0\n",
      "volkswagen        9995.0\n",
      "volvo            13415.0\n",
      "Name: price, dtype: float64\n"
     ]
    }
   ],
   "source": [
    "maxim=df.groupby(\"company\")\n",
    "print(maxim[\"price\"].max())"
   ]
  },
  {
   "cell_type": "markdown",
   "metadata": {},
   "source": [
    "## Quest6- Find the average mileage of each car making company"
   ]
  },
  {
   "cell_type": "code",
   "execution_count": 16,
   "metadata": {},
   "outputs": [
    {
     "name": "stdout",
     "output_type": "stream",
     "text": [
      "company\n",
      "alfa-romero      20.333333\n",
      "audi             20.000000\n",
      "bmw              19.000000\n",
      "chevrolet        41.000000\n",
      "dodge            31.000000\n",
      "honda            26.333333\n",
      "isuzu            33.333333\n",
      "jaguar           14.333333\n",
      "mazda            28.000000\n",
      "mercedes-benz    18.000000\n",
      "mitsubishi       29.500000\n",
      "nissan           31.400000\n",
      "porsche          17.000000\n",
      "toyota           28.714286\n",
      "volkswagen       31.750000\n",
      "volvo            23.000000\n",
      "Name: average-mileage, dtype: float64\n"
     ]
    }
   ],
   "source": [
    "print(maxim[\"average-mileage\"].mean())"
   ]
  },
  {
   "cell_type": "markdown",
   "metadata": {},
   "source": [
    "## Quest7- Sort all cars by Price in descending order column and display first five rows"
   ]
  },
  {
   "cell_type": "code",
   "execution_count": 17,
   "metadata": {},
   "outputs": [
    {
     "name": "stdout",
     "output_type": "stream",
     "text": [
      "    index        company   body-style  wheel-base  length engine-type  \\\n",
      "35     47  mercedes-benz      hardtop       112.0   199.2        ohcv   \n",
      "11     14            bmw        sedan       103.5   193.8         ohc   \n",
      "34     46  mercedes-benz        sedan       120.9   208.1        ohcv   \n",
      "46     62        porsche  convertible        89.5   168.9        ohcf   \n",
      "12     15            bmw        sedan       110.0   197.0         ohc   \n",
      "\n",
      "   num-of-cylinders  horsepower  average-mileage    price  \n",
      "35            eight         184               14  45400.0  \n",
      "11              six         182               16  41315.0  \n",
      "34            eight         184               14  40960.0  \n",
      "46              six         207               17  37028.0  \n",
      "12              six         182               15  36880.0  \n"
     ]
    }
   ],
   "source": [
    "df1=df.sort_values(by='price',ascending=False)\n",
    "print(df1.head())"
   ]
  },
  {
   "cell_type": "markdown",
   "metadata": {},
   "source": [
    "## Quest8-  Concatenate two data frames using the following conditions"
   ]
  },
  {
   "cell_type": "code",
   "execution_count": 20,
   "metadata": {},
   "outputs": [
    {
     "name": "stdout",
     "output_type": "stream",
     "text": [
      "   Companay   Price\n",
      "0      Ford   23845\n",
      "1  Mercedes  171995\n",
      "2       BMV  135925\n",
      "3      Audi   71400\n",
      "       Company  Price\n",
      "0       Toyota  29995\n",
      "1        Honda  23600\n",
      "2       Nissan  61500\n",
      "3  Mitsubhishi  58900\n",
      "           Companay   Price      Company\n",
      "Germany 0      Ford   23845          NaN\n",
      "        1  Mercedes  171995          NaN\n",
      "        2       BMV  135925          NaN\n",
      "        3      Audi   71400          NaN\n",
      "Japan   0       NaN   29995       Toyota\n",
      "        1       NaN   23600        Honda\n",
      "        2       NaN   61500       Nissan\n",
      "        3       NaN   58900  Mitsubhishi\n"
     ]
    }
   ],
   "source": [
    "GermanCars={'Companay':['Ford','Mercedes','BMV','Audi'],'Price':['23845','171995','135925','71400']}\n",
    "japaneseCars={'Company':['Toyota','Honda','Nissan','Mitsubhishi'],'Price':['29995','23600','61500','58900']}\n",
    "df1=pd.DataFrame(GermanCars)\n",
    "df2=pd.DataFrame(japaneseCars)\n",
    "print(df1)\n",
    "print(df2)\n",
    "df3=pd.concat((df1,df2),keys=[\"Germany\",\"Japan\"])\n",
    "print(df3)"
   ]
  },
  {
   "cell_type": "code",
   "execution_count": null,
   "metadata": {},
   "outputs": [],
   "source": []
  }
 ],
 "metadata": {
  "kernelspec": {
   "display_name": "Python 3",
   "language": "python",
   "name": "python3"
  },
  "language_info": {
   "codemirror_mode": {
    "name": "ipython",
    "version": 3
   },
   "file_extension": ".py",
   "mimetype": "text/x-python",
   "name": "python",
   "nbconvert_exporter": "python",
   "pygments_lexer": "ipython3",
   "version": "3.8.5"
  }
 },
 "nbformat": 4,
 "nbformat_minor": 4
}
